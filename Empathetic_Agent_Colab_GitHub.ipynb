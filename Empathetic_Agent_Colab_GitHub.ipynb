{
 "cells": [
  {
   "cell_type": "markdown",
   "id": "79dd24b0",
   "metadata": {},
   "source": [
    "# 🤖 Empathetic Agent Colab Demo\n",
    "This notebook runs your empathetic AI agent from your GitHub repo using Google Colab."
   ]
  },
  {
   "cell_type": "code",
   "execution_count": null,
   "id": "569b6e5d",
   "metadata": {},
   "outputs": [],
   "source": [
    "# 📌 STEP 1: Install required Python packages\n",
    "!pip install -q openai python-dotenv tiktoken\n"
   ]
  },
  {
   "cell_type": "code",
   "execution_count": null,
   "id": "75d655df",
   "metadata": {},
   "outputs": [],
   "source": [
    "# 📌 STEP 2: Clone your GitHub repository\n",
    "!git clone https://github.com/ayana123/Agent_project.git\n",
    "%cd Agent_project\n"
   ]
  },
  {
   "cell_type": "code",
   "execution_count": null,
   "id": "3687668b",
   "metadata": {},
   "outputs": [],
   "source": [
    "# 📌 STEP 3: Set your API keys and environment variables\n",
    "import os\n",
    "\n",
    "os.environ[\"OPENAI_API_KEY_2\"] = \"sk-...\"  # 🔑 Replace with your actual OpenAI API key\n",
    "os.environ[\"OPENAI_MODEL\"] = \"gpt-4o\"\n",
    "os.environ[\"OPENAI_TEMPERATURE\"] = \"0.9\"\n",
    "os.environ[\"TOKEN_LIMIT\"] = \"10000\"\n"
   ]
  },
  {
   "cell_type": "code",
   "execution_count": null,
   "id": "03056732",
   "metadata": {},
   "outputs": [],
   "source": [
    "# 📌 STEP 4: Run the Empathetic Agent\n",
    "from memory_manager import MemoryManager\n",
    "from empathetic_agent import EmpatheticAgent\n",
    "\n",
    "memory = MemoryManager()\n",
    "memory.clear_memory()\n",
    "agent = EmpatheticAgent(memory)\n",
    "\n",
    "print(\"🧠 Empathetic Chat (type 'exit' to stop)\\n\")\n",
    "\n",
    "while not memory.is_complete():\n",
    "    user_input = input(\"You: \")\n",
    "    if user_input.lower() == \"exit\":\n",
    "        print(\"Session ended.\")\n",
    "        break\n",
    "    response = agent.ask(user_input=user_input)\n",
    "    print(f\"Agent: {response}\")\n"
   ]
  }
 ],
 "metadata": {},
 "nbformat": 4,
 "nbformat_minor": 5
}
