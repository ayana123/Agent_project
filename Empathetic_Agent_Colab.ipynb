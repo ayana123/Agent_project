{
 "cells": [
  {
   "cell_type": "markdown",
   "id": "fcfb6d27",
   "metadata": {},
   "source": [
    "# 🤖 Empathetic Agent Demo\n",
    "This notebook lets you test your empathetic AI agent directly in Google Colab."
   ]
  },
  {
   "cell_type": "code",
   "execution_count": null,
   "id": "c7e1ca8e",
   "metadata": {},
   "outputs": [],
   "source": [
    "# 📌 STEP 1: Install dependencies\n",
    "!pip install -q openai python-dotenv tiktoken\n"
   ]
  },
  {
   "cell_type": "code",
   "execution_count": null,
   "id": "5cd652be",
   "metadata": {},
   "outputs": [],
   "source": [
    "# 📌 STEP 2: Upload your project files\n",
    "from google.colab import files\n",
    "\n",
    "print(\"⬆️ Upload the following files when prompted:\\n- empathetic_agent.py\\n- history_manager.py\\n- text_prompts.py\\n- emphatheic_ai_main.py\\n- memory_manager.py (if used)\\n- requirements.txt\")\n",
    "uploaded = files.upload()\n"
   ]
  },
  {
   "cell_type": "code",
   "execution_count": null,
   "id": "31725eef",
   "metadata": {},
   "outputs": [],
   "source": [
    "# 📌 STEP 3: Set environment variables (replace with your actual API key)\n",
    "import os\n",
    "\n",
    "os.environ[\"OPENAI_API_KEY_2\"] = \"sk-...\"  # 🔑 Replace with your real key\n",
    "os.environ[\"OPENAI_MODEL\"] = \"gpt-4o\"\n",
    "os.environ[\"OPENAI_TEMPERATURE\"] = \"0.9\"\n",
    "os.environ[\"TOKEN_LIMIT\"] = \"10000\"\n"
   ]
  },
  {
   "cell_type": "code",
   "execution_count": null,
   "id": "aaa72e72",
   "metadata": {},
   "outputs": [],
   "source": [
    "# 📌 STEP 4: Run the Empathetic Agent\n",
    "\n",
    "from memory_manager import MemoryManager\n",
    "from empathetic_agent import EmpatheticAgent\n",
    "\n",
    "memory = MemoryManager()\n",
    "memory.clear_memory()\n",
    "agent = EmpatheticAgent(memory)\n",
    "\n",
    "print(\"🧠 Empathetic Chat (type 'exit' to stop)\\n\")\n",
    "\n",
    "while not memory.is_complete():\n",
    "    user_input = input(\"You: \")\n",
    "    if user_input.lower() == \"exit\":\n",
    "        print(\"Session ended.\")\n",
    "        break\n",
    "    response = agent.ask(user_input=user_input)\n",
    "    print(f\"Agent: {response}\")\n"
   ]
  }
 ],
 "metadata": {},
 "nbformat": 4,
 "nbformat_minor": 5
}
