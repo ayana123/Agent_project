{
 "cells": [
  {
   "cell_type": "markdown",
   "id": "fcfb6d27",
   "metadata": {},
   "source": [
    "# 🤖 Empathetic Agent Demo\n",
    "This notebook lets you test your empathetic AI agent directly in Google Colab."
   ]
  },
  {
   "cell_type": "code",
   "execution_count": null,
   "id": "c7e1ca8e",
   "metadata": {},
   "outputs": [],
   "source": [
    "# 📌 STEP 1: Install dependencies\n",
    "!pip install -q openai python-dotenv tiktoken\n"
   ]
  },
  {
   "cell_type": "code",
   "execution_count": null,
   "id": "5cd652be",
   "metadata": {},
   "outputs": [],
   "source": [
    "# 📌 STEP 2: Upload your project files\n",
    "\n",
    "!git clone https://github.com/ayana123/Agent_project.git\n"
   ]
  },
  {
   "cell_type": "code",
   "execution_count": null,
   "id": "afcb7a00",
   "metadata": {},
   "outputs": [],
   "source": [
    "%cd Agent_project"
   ]
  },
  {
   "cell_type": "code",
   "execution_count": 10,
   "id": "31725eef",
   "metadata": {},
   "outputs": [],
   "source": [
    "# 📌 STEP 3: Set environment variables (replace with your actual API key)\n",
    "import os\n",
    "from dotenv import load_dotenv\n",
    "\n",
    "os.environ[\"OPENAI_API_KEY\"] = \"\" # 🔑 Replace with your actual OpenAI API key\n",
    "os.environ[\"OPENAI_MODEL\"] = \"gpt-4o\"\n",
    "os.environ[\"OPENAI_TEMPERATURE\"] = \"0.6\"\n",
    "os.environ[\"TOKEN_LIMIT\"] = \"12000\"\n",
    "os.environ[\"STRICT_TEMPERATURE\"] = \"0\"\n",
    "os.environ[\"MAX_QUESTIONS\"] = \"20\"\n",
    "os.environ[\"USE_HISTORY\"] = \"True\"\n",
    "\n"
   ]
  },
  {
   "cell_type": "code",
   "execution_count": 11,
   "id": "853eaae9",
   "metadata": {},
   "outputs": [],
   "source": [
    "from memory_manager import MemoryManager\n",
    "from empathetic_agent import EmpatheticAgent"
   ]
  },
  {
   "cell_type": "code",
   "execution_count": 12,
   "id": "2ff8882f",
   "metadata": {},
   "outputs": [],
   "source": [
    "load_dotenv()\n",
    "max_questions = int(os.getenv(\"MAX_QUESTIONS\", \"20\"))  # Default to 20 if not set\n",
    "\n",
    "memory = MemoryManager()\n",
    "memory.clear_memory()\n",
    "agent = EmpatheticAgent(memory)\n",
    "\n",
    "                \n",
    "user_input = \"\"\n",
    "question_count = 0\n",
    "check_if_to_finish = False"
   ]
  },
  {
   "cell_type": "code",
   "execution_count": null,
   "id": "d95eb4f4",
   "metadata": {},
   "outputs": [
    {
     "name": "stdout",
     "output_type": "stream",
     "text": [
      "Empathetic chat (type 'exit' to quit)\n",
      "\n",
      "\n",
      "Agent: Hello, I'm here to support you through this. May I ask your first name?\n",
      "\n"
     ]
    }
   ],
   "source": [
    "print(\"Empathetic chat (type 'exit' to quit)\\n\")\n",
    "try:\n",
    "        while question_count < max_questions:\n",
    "            response = agent.ask(user_input = user_input)\n",
    "             \n",
    "            if memory.is_complete():\n",
    "                if not memory.is_last_filed_skipped():\n",
    "                    break\n",
    "                else:\n",
    "                    #handle the special case where the agent is still trying \n",
    "                    #to extract data from the user about the last field\n",
    "                    if not agent.check_if_question_is_about_field(response):\n",
    "                        break\n",
    "\n",
    "            print(f\"\\nAgent: {response}\\n\")\n",
    "            user_input = input(\"You: \")\n",
    "            if user_input.lower() == \"exit\":\n",
    "                # Generate goodbye message for user exit\n",
    "                break\n",
    "          \n",
    "            question_count += 1\n",
    "            \n",
    "        goodbye = agent.generate_goodbye_message(\"complete\")\n",
    "        print(f\"\\nAgent: {goodbye}\\n\")\n",
    "            \n",
    "finally:\n",
    "    memory.print_memory_state()\n",
    "\n"
   ]
  }
 ],
 "metadata": {
  "kernelspec": {
   "display_name": "agent_01",
   "language": "python",
   "name": "python3"
  },
  "language_info": {
   "codemirror_mode": {
    "name": "ipython",
    "version": 3
   },
   "file_extension": ".py",
   "mimetype": "text/x-python",
   "name": "python",
   "nbconvert_exporter": "python",
   "pygments_lexer": "ipython3",
   "version": "3.13.2"
  }
 },
 "nbformat": 4,
 "nbformat_minor": 5
}
